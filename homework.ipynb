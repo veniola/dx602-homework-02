{
  "cells": [
    {
      "cell_type": "markdown",
      "metadata": {
        "id": "2Tc6KzI4P0To"
      },
      "source": [
        "# DX 602 Week 2 Homework\n",
        "\n"
      ]
    },
    {
      "cell_type": "markdown",
      "metadata": {
        "id": "k2wKrIcJIfd5"
      },
      "source": [
        "## Introduction\n",
        "\n",
        "Practice is a large part of becoming fluent in a programming language.\n",
        "In this module, you will be assigned regular coding homework to practice Python.\n",
        "If these problems seem too easy to you, try to answer them faster, and make sure to check the auto-grader feedback to confirm the correctness of your answers.\n",
        "Like with spoken languages, fluency (speed) is highly correlated with proficiency.\n",
        "But it is important to answer the problems correctly first, then quickly.\n"
      ]
    },
    {
      "cell_type": "markdown",
      "metadata": {
        "id": "HURgoU0vIiRa"
      },
      "source": [
        "### Submission\n",
        "\n",
        "To submit your homework, take the following steps.\n",
        "\n",
        "1. Save and commit this notebook.\n",
        "2. Push your changes to GitHub.\n",
        "3. Confirm that your changes are visible in GitHub.\n",
        "4. Delete the codespace to avoid wasting your free quota.\n",
        "\n",
        "The auto-grading process usually completes within a few minutes of pushing to GitHub, but occasionally can take several minutes to an hour.\n",
        "If you submit your homework early enough, you may review the auto-grading results and fix any mistakes before the deadline.\n"
      ]
    },
    {
      "cell_type": "markdown",
      "metadata": {
        "id": "DqktefzNLKSa"
      },
      "source": [
        "## Problems"
      ]
    },
    {
      "cell_type": "markdown",
      "metadata": {
        "id": "Bpes88-pI4VD"
      },
      "source": [
        "### Problem 1\n",
        "\n",
        "Set `p1` to the name of your favorite animal.\n"
      ]
    },
    {
      "cell_type": "code",
      "execution_count": 950,
      "metadata": {
        "id": "VBT9VpsGLjCm"
      },
      "outputs": [],
      "source": [
        "# YOUR CHANGES HERE\n",
        "\n",
        "p1 = \"jaguar\""
      ]
    },
    {
      "cell_type": "code",
      "execution_count": 951,
      "metadata": {
        "id": "le4QiP_mMNsS"
      },
      "outputs": [
        {
          "data": {
            "text/plain": [
              "'jaguar'"
            ]
          },
          "execution_count": 951,
          "metadata": {},
          "output_type": "execute_result"
        }
      ],
      "source": [
        "p1"
      ]
    },
    {
      "cell_type": "markdown",
      "metadata": {
        "id": "83qzQmAxJBHx"
      },
      "source": [
        "### Problem 2\n",
        "\n",
        "Set `p2` to the 3rd element of `q2`."
      ]
    },
    {
      "cell_type": "code",
      "execution_count": 952,
      "metadata": {
        "id": "5Ui_1NK6Lbsf"
      },
      "outputs": [],
      "source": [
        "# DO NOT CHANGE\n",
        "\n",
        "q2 = [2, 3, 5, 7, 11, 13, 17, 19, 23]"
      ]
    },
    {
      "cell_type": "code",
      "execution_count": 953,
      "metadata": {
        "id": "NYZZPanuLfLt"
      },
      "outputs": [],
      "source": [
        "# YOUR CHANGES HERE\n",
        "\n",
        "p2 = q2[2]"
      ]
    },
    {
      "cell_type": "code",
      "execution_count": 954,
      "metadata": {
        "id": "qA7S3vqHMOg5"
      },
      "outputs": [
        {
          "data": {
            "text/plain": [
              "5"
            ]
          },
          "execution_count": 954,
          "metadata": {},
          "output_type": "execute_result"
        }
      ],
      "source": [
        "p2"
      ]
    },
    {
      "cell_type": "markdown",
      "metadata": {
        "id": "9oDdedHWJBCD"
      },
      "source": [
        "### Problem 3\n",
        "\n",
        "Set `p3` to the length of `q3`."
      ]
    },
    {
      "cell_type": "code",
      "execution_count": 955,
      "metadata": {
        "id": "_p_8E1EILsrw"
      },
      "outputs": [],
      "source": [
        "# DO NOT CHANGE\n",
        "\n",
        "q3 = [iter for i in range(1000) if i % 5 == 0 and i % 4 == 0]"
      ]
    },
    {
      "cell_type": "code",
      "execution_count": 956,
      "metadata": {
        "id": "Pl5pBT5OL1xl"
      },
      "outputs": [],
      "source": [
        "# YOUR CHANGES HERE\n",
        "\n",
        "p3 = len(q3)"
      ]
    },
    {
      "cell_type": "code",
      "execution_count": 957,
      "metadata": {
        "id": "KrUCeN0BMPO9"
      },
      "outputs": [
        {
          "data": {
            "text/plain": [
              "50"
            ]
          },
          "execution_count": 957,
          "metadata": {},
          "output_type": "execute_result"
        }
      ],
      "source": [
        "p3"
      ]
    },
    {
      "cell_type": "markdown",
      "metadata": {
        "id": "AA0nlfIzJA7-"
      },
      "source": [
        "### Problem 4\n",
        "\n",
        "Set `p4` to the last element of `q4`."
      ]
    },
    {
      "cell_type": "code",
      "execution_count": 958,
      "metadata": {
        "id": "zAzSWnGTL8Rv"
      },
      "outputs": [],
      "source": [
        "# DO NOT CHANGE\n",
        "\n",
        "q4 = [i for i in range(1000) if i % 5 != 0 and i % 3 != 0 and i % 2 != 0]"
      ]
    },
    {
      "cell_type": "code",
      "execution_count": 959,
      "metadata": {
        "id": "o9hlg5JxMFcc"
      },
      "outputs": [],
      "source": [
        "# YOUR CHANGES HERE\n",
        "\n",
        "p4 = q4[-1]"
      ]
    },
    {
      "cell_type": "code",
      "execution_count": 960,
      "metadata": {
        "id": "SM3eGgAGMQAy"
      },
      "outputs": [
        {
          "data": {
            "text/plain": [
              "997"
            ]
          },
          "execution_count": 960,
          "metadata": {},
          "output_type": "execute_result"
        }
      ],
      "source": [
        "p4"
      ]
    },
    {
      "cell_type": "markdown",
      "metadata": {
        "id": "-gH3CZv7JA16"
      },
      "source": [
        "### Problem 5\n",
        "\n",
        "Sort `p5` in reverse order.\n"
      ]
    },
    {
      "cell_type": "code",
      "execution_count": 961,
      "metadata": {
        "id": "MTFfUltTMLEl"
      },
      "outputs": [],
      "source": [
        "# DO NOT CHANGE\n",
        "\n",
        "p5 = [7, 1, 3, 6, 8, 123]"
      ]
    },
    {
      "cell_type": "markdown",
      "metadata": {
        "id": "LlVTl91dMO_5"
      },
      "source": [
        "Hint: check the documentation for sort."
      ]
    },
    {
      "cell_type": "code",
      "execution_count": 962,
      "metadata": {
        "id": "Zk9rnlRBMQaE"
      },
      "outputs": [],
      "source": [
        "# YOUR CHANGES HERE\n",
        "\n",
        "sorted = p5.sort()\n",
        "reversed = p5.reverse()"
      ]
    },
    {
      "cell_type": "code",
      "execution_count": 963,
      "metadata": {
        "id": "srrF7ISYMQ3U"
      },
      "outputs": [
        {
          "data": {
            "text/plain": [
              "[123, 8, 7, 6, 3, 1]"
            ]
          },
          "execution_count": 963,
          "metadata": {},
          "output_type": "execute_result"
        }
      ],
      "source": [
        "p5"
      ]
    },
    {
      "cell_type": "markdown",
      "metadata": {
        "id": "Yg-BAxCwJAwO"
      },
      "source": [
        "### Problem 6\n",
        "\n",
        "Set `p6` to be the last 3 elements of `q6`."
      ]
    },
    {
      "cell_type": "code",
      "execution_count": 964,
      "metadata": {
        "id": "bWGZ0daVMiKy"
      },
      "outputs": [],
      "source": [
        "# DO NOT CHANGE\n",
        "\n",
        "q6 = [\"a\", 3, \"bc\", 4, \"def\", 5, \"ghij\", 6]"
      ]
    },
    {
      "cell_type": "code",
      "execution_count": 965,
      "metadata": {
        "id": "OKEnz7J-MpoX"
      },
      "outputs": [],
      "source": [
        "# YOUR CHANGES HERE\n",
        "\n",
        "p6 = q6[-3:]"
      ]
    },
    {
      "cell_type": "code",
      "execution_count": 966,
      "metadata": {
        "id": "7nKI00LWMRz4"
      },
      "outputs": [
        {
          "data": {
            "text/plain": [
              "[5, 'ghij', 6]"
            ]
          },
          "execution_count": 966,
          "metadata": {},
          "output_type": "execute_result"
        }
      ],
      "source": [
        "p6"
      ]
    },
    {
      "cell_type": "markdown",
      "metadata": {
        "id": "eeZzLUvlJAp1"
      },
      "source": [
        "### Problem 7\n",
        "\n",
        "Set `p7` to be the number of distinct items in `q7`."
      ]
    },
    {
      "cell_type": "code",
      "execution_count": 967,
      "metadata": {
        "id": "GcLSUzAGMuXg"
      },
      "outputs": [],
      "source": [
        "# DO NOT CHANGE\n",
        "\n",
        "q7 = []\n",
        "\n",
        "for p in [2, 3, 5, 7]:\n",
        "    for i in range(10):\n",
        "        q7.append(p * i)"
      ]
    },
    {
      "cell_type": "code",
      "execution_count": 968,
      "metadata": {
        "id": "ZCPJVNnMM34o"
      },
      "outputs": [],
      "source": [
        "# YOUR CHANGES HERE\n",
        "p7 = 29"
      ]
    },
    {
      "cell_type": "code",
      "execution_count": 969,
      "metadata": {
        "id": "j3D_mbJzMTLn"
      },
      "outputs": [
        {
          "data": {
            "text/plain": [
              "29"
            ]
          },
          "execution_count": 969,
          "metadata": {},
          "output_type": "execute_result"
        }
      ],
      "source": [
        "p7"
      ]
    },
    {
      "cell_type": "markdown",
      "metadata": {
        "id": "Hph9pVqzJAkO"
      },
      "source": [
        "### Problem 8\n",
        "\n",
        "Set `p8` to be the number of items in `q8a` that are also in `q8b`."
      ]
    },
    {
      "cell_type": "code",
      "execution_count": 970,
      "metadata": {
        "id": "nEXRXKwJNBv6"
      },
      "outputs": [],
      "source": [
        "# DO NOT CHANGE\n",
        "\n",
        "q8a = [1, 2, 3, 6, 98, 23, 24, 25, 26]"
      ]
    },
    {
      "cell_type": "code",
      "execution_count": 971,
      "metadata": {
        "id": "SXZhJ4hKNFyY"
      },
      "outputs": [],
      "source": [
        "# DO NOT CHANGE\n",
        "\n",
        "q8b = [26, 25, 24, 22, 5, 5, 5, 5, 5, 5]"
      ]
    },
    {
      "cell_type": "code",
      "execution_count": 972,
      "metadata": {
        "id": "bKzt-l6RNLfI"
      },
      "outputs": [],
      "source": [
        "# YOUR CHANGES HERE\n",
        "\n",
        "p8 = len([x for x in q8a if x in q8b])"
      ]
    },
    {
      "cell_type": "code",
      "execution_count": 973,
      "metadata": {
        "id": "fkeQtRu_MUdC"
      },
      "outputs": [
        {
          "data": {
            "text/plain": [
              "3"
            ]
          },
          "execution_count": 973,
          "metadata": {},
          "output_type": "execute_result"
        }
      ],
      "source": [
        "p8"
      ]
    },
    {
      "cell_type": "markdown",
      "metadata": {
        "id": "_jIWEmiVJAe3"
      },
      "source": [
        "### Problem 9\n",
        "\n",
        "Create a new dictionary `p9` from the dataset `q9` where each key represents a unique color and maps to a list of all dictionaries containing that color as their color key."
      ]
    },
    {
      "cell_type": "code",
      "execution_count": 974,
      "metadata": {
        "id": "ycA8XTCOpuUj"
      },
      "outputs": [],
      "source": [
        "# DO NOT CHANGE\n",
        "\n",
        "q9 = [{\"color\": \"red\", \"score\": 0.13},\n",
        "      {\"color\": \"blue\", \"score\": 1.00},\n",
        "      {\"color\": \"green\", \"score\": 0.64},\n",
        "      {\"color\": \"red\", \"score\": 0.98},\n",
        "      {\"color\": \"blue\", \"score\": 0.52},\n",
        "      {\"color\": \"violet\", \"score\": 0.25}]"
      ]
    },
    {
      "cell_type": "code",
      "execution_count": 975,
      "metadata": {
        "id": "h7F82RDKpu7l"
      },
      "outputs": [
        {
          "name": "stdout",
          "output_type": "stream",
          "text": [
            "[0.13, 0.98] [1.0, 0.52] [0.64] [0.25]\n"
          ]
        }
      ],
      "source": [
        "# YOUR CHANGES HERE\n",
        "\n",
        "r = [c[\"score\"] for c in q9 if c[\"color\"] == \"red\"]\n",
        "b = [c[\"score\"] for c in q9 if c[\"color\"] == \"blue\"]\n",
        "g = [c[\"score\"] for c in q9 if c[\"color\"] == \"green\"]\n",
        "v = [c[\"score\"] for c in q9 if c[\"color\"] == \"violet\"]\n",
        "print(r,b,g,v)\n",
        "\n",
        "new_dict = {}\n",
        "\n",
        "for red in new_dict:\n",
        "    new_dict.append(r)\n",
        "\n",
        "for blue in new_dict:\n",
        "    new_dict.append(r)\n",
        "\n",
        "for green in new_dict:\n",
        "    new_dict.append(g)\n",
        "\n",
        "for violet in new_dict:\n",
        "    new_dict.appen(v)\n",
        "\n",
        "new_dict = {\"red\" : r, \"blue\" : b, \"green\" : g, \"violet\" : v}\n",
        "p9 = new_dict\n"
      ]
    },
    {
      "cell_type": "code",
      "execution_count": 976,
      "metadata": {
        "id": "v-KXyX4KMpO5"
      },
      "outputs": [
        {
          "data": {
            "text/plain": [
              "{'red': [0.13, 0.98], 'blue': [1.0, 0.52], 'green': [0.64], 'violet': [0.25]}"
            ]
          },
          "execution_count": 976,
          "metadata": {},
          "output_type": "execute_result"
        }
      ],
      "source": [
        "p9"
      ]
    },
    {
      "cell_type": "markdown",
      "metadata": {
        "id": "E9uPJNt-JAZA"
      },
      "source": [
        "### Problem 10\n",
        "\n",
        "Examine the function `add_data_10` that organizes data into the dictionary `q10` and identify the key used to categorize the data within it."
      ]
    },
    {
      "cell_type": "code",
      "execution_count": 977,
      "metadata": {
        "id": "3W1_fPOIqpo-"
      },
      "outputs": [],
      "source": [
        "# DO NOT CHANGE\n",
        "\n",
        "q10 = {}\n",
        "\n",
        "def add_data_10(row):\n",
        "    if row['score'] < 0:\n",
        "        return\n",
        "\n",
        "    q10.setdefault(row['zipcode'], [])\n",
        "    q10[row['zipcode']].append(row)\n"
      ]
    },
    {
      "cell_type": "code",
      "execution_count": 978,
      "metadata": {
        "id": "0L8sGkWqtdIh"
      },
      "outputs": [],
      "source": [
        "# YOUR CHANGES HERE\n",
        "\n",
        "p10 = \"zipcode\""
      ]
    },
    {
      "cell_type": "code",
      "execution_count": 979,
      "metadata": {
        "id": "LFYaLPdUMqIi"
      },
      "outputs": [
        {
          "data": {
            "text/plain": [
              "'zipcode'"
            ]
          },
          "execution_count": 979,
          "metadata": {},
          "output_type": "execute_result"
        }
      ],
      "source": [
        "p10"
      ]
    },
    {
      "cell_type": "markdown",
      "metadata": {
        "id": "V3LwVKAEJANv"
      },
      "source": [
        "### Problem 11\n",
        "\n",
        "Write a function p11 taking one input $x$ and returning $x^2$."
      ]
    },
    {
      "cell_type": "code",
      "execution_count": 980,
      "metadata": {
        "id": "iX7t6vlhNbEQ"
      },
      "outputs": [],
      "source": [
        "# YOUR CHANGES HERE\n",
        "\n",
        "def p11(x):\n",
        "    return x**2"
      ]
    },
    {
      "cell_type": "code",
      "execution_count": 981,
      "metadata": {
        "id": "2gVFJKeyMrIu"
      },
      "outputs": [
        {
          "data": {
            "text/plain": [
              "0"
            ]
          },
          "execution_count": 981,
          "metadata": {},
          "output_type": "execute_result"
        }
      ],
      "source": [
        "p11(0)"
      ]
    },
    {
      "cell_type": "code",
      "execution_count": 982,
      "metadata": {
        "id": "HVntsVfrMsC7"
      },
      "outputs": [
        {
          "data": {
            "text/plain": [
              "1"
            ]
          },
          "execution_count": 982,
          "metadata": {},
          "output_type": "execute_result"
        }
      ],
      "source": [
        "p11(1)"
      ]
    },
    {
      "cell_type": "code",
      "execution_count": 983,
      "metadata": {
        "id": "lTaPADFLMtCl"
      },
      "outputs": [
        {
          "data": {
            "text/plain": [
              "4"
            ]
          },
          "execution_count": 983,
          "metadata": {},
          "output_type": "execute_result"
        }
      ],
      "source": [
        "p11(2)"
      ]
    },
    {
      "cell_type": "code",
      "execution_count": 984,
      "metadata": {
        "id": "LQ7ZmFb8MuNi"
      },
      "outputs": [
        {
          "data": {
            "text/plain": [
              "100"
            ]
          },
          "execution_count": 984,
          "metadata": {},
          "output_type": "execute_result"
        }
      ],
      "source": [
        "p11(10)"
      ]
    },
    {
      "cell_type": "code",
      "execution_count": 985,
      "metadata": {
        "id": "Ch75qm8OMvGN"
      },
      "outputs": [
        {
          "data": {
            "text/plain": [
              "123454321"
            ]
          },
          "execution_count": 985,
          "metadata": {},
          "output_type": "execute_result"
        }
      ],
      "source": [
        "p11(11111)"
      ]
    },
    {
      "cell_type": "markdown",
      "metadata": {
        "id": "SwsSCn-oK_Le"
      },
      "source": [
        "### Problem 12\n",
        "\n",
        "Write a function `p12` that returns \"even\" if the input is an even number, and \"odd\" if the input is an odd number. You may assume that the input is always an integer."
      ]
    },
    {
      "cell_type": "code",
      "execution_count": 986,
      "metadata": {
        "id": "qOU4mHoENlm_"
      },
      "outputs": [],
      "source": [
        "# YOUR CHANGES HERE\n",
        "\n",
        "def p12(intgr):\n",
        "    if intgr % 2 == 0:\n",
        "        return \"even\"\n",
        "    elif intgr %  2 != 0:\n",
        "        return \"odd\""
      ]
    },
    {
      "cell_type": "code",
      "execution_count": 987,
      "metadata": {
        "id": "h5ZazXH6MyKp"
      },
      "outputs": [
        {
          "data": {
            "text/plain": [
              "'even'"
            ]
          },
          "execution_count": 987,
          "metadata": {},
          "output_type": "execute_result"
        }
      ],
      "source": [
        "p12(0)"
      ]
    },
    {
      "cell_type": "code",
      "execution_count": 988,
      "metadata": {
        "id": "ok2P8pHJMy9y"
      },
      "outputs": [
        {
          "data": {
            "text/plain": [
              "'odd'"
            ]
          },
          "execution_count": 988,
          "metadata": {},
          "output_type": "execute_result"
        }
      ],
      "source": [
        "p12(1)"
      ]
    },
    {
      "cell_type": "code",
      "execution_count": 989,
      "metadata": {
        "id": "pkyYvZibM0BJ"
      },
      "outputs": [
        {
          "data": {
            "text/plain": [
              "'even'"
            ]
          },
          "execution_count": 989,
          "metadata": {},
          "output_type": "execute_result"
        }
      ],
      "source": [
        "p12(100)"
      ]
    },
    {
      "cell_type": "code",
      "execution_count": 990,
      "metadata": {
        "id": "CMYAmXK_M1ij"
      },
      "outputs": [
        {
          "data": {
            "text/plain": [
              "'odd'"
            ]
          },
          "execution_count": 990,
          "metadata": {},
          "output_type": "execute_result"
        }
      ],
      "source": [
        "p12(999)"
      ]
    },
    {
      "cell_type": "markdown",
      "metadata": {
        "id": "0R7jYZplK9zL"
      },
      "source": [
        "### Problem 13\n",
        "\n",
        "The following code calculates prime numbers less than 100 and stores them in `p13`, but `p13` was not initialized correctly.\n",
        "Fix the initialization of `p13` with an appropriate data type."
      ]
    },
    {
      "cell_type": "code",
      "execution_count": 991,
      "metadata": {},
      "outputs": [],
      "source": [
        "# YOUR CHANGES HERE\n",
        "\n",
        "p13 = []"
      ]
    },
    {
      "cell_type": "code",
      "execution_count": 992,
      "metadata": {
        "id": "FHUZPLF5OLKt"
      },
      "outputs": [],
      "source": [
        "# DO NOT CHANGE\n",
        "\n",
        "for i in range(2, 100):\n",
        "    for p in p13:\n",
        "        if i % p == 0:\n",
        "            break\n",
        "    else:\n",
        "        p13.append(i)\n"
      ]
    },
    {
      "cell_type": "code",
      "execution_count": 993,
      "metadata": {
        "id": "dCZNsLm3M6ZR"
      },
      "outputs": [
        {
          "data": {
            "text/plain": [
              "[2,\n",
              " 3,\n",
              " 5,\n",
              " 7,\n",
              " 11,\n",
              " 13,\n",
              " 17,\n",
              " 19,\n",
              " 23,\n",
              " 29,\n",
              " 31,\n",
              " 37,\n",
              " 41,\n",
              " 43,\n",
              " 47,\n",
              " 53,\n",
              " 59,\n",
              " 61,\n",
              " 67,\n",
              " 71,\n",
              " 73,\n",
              " 79,\n",
              " 83,\n",
              " 89,\n",
              " 97]"
            ]
          },
          "execution_count": 993,
          "metadata": {},
          "output_type": "execute_result"
        }
      ],
      "source": [
        "p13"
      ]
    },
    {
      "cell_type": "markdown",
      "metadata": {
        "id": "c4W3baDrK9lc"
      },
      "source": [
        "### Problem 14\n",
        "\n",
        "Write a function `p14` that takes a list of integers and returns a new list containing only those integers that are divisible by 14."
      ]
    },
    {
      "cell_type": "code",
      "execution_count": null,
      "metadata": {
        "id": "u4AbsndXtp4C"
      },
      "outputs": [],
      "source": [
        "# YOUR CHANGES HERE\n",
        "\n",
        "def p14(a):\n",
        "    new_list = []\n",
        "    for i in a:\n",
        "        if i % 14 == 0 and i >= 1: \n",
        "            return new_list.append(i)\n",
        "    "
      ]
    },
    {
      "cell_type": "code",
      "execution_count": 1019,
      "metadata": {
        "id": "MaAN_wmlM_gK"
      },
      "outputs": [
        {
          "ename": "TypeError",
          "evalue": "'list' object is not callable",
          "output_type": "error",
          "traceback": [
            "\u001b[31m---------------------------------------------------------------------------\u001b[39m",
            "\u001b[31mTypeError\u001b[39m                                 Traceback (most recent call last)",
            "\u001b[36mCell\u001b[39m\u001b[36m \u001b[39m\u001b[32mIn[1019]\u001b[39m\u001b[32m, line 1\u001b[39m\n\u001b[32m----> \u001b[39m\u001b[32m1\u001b[39m \u001b[43mp14\u001b[49m\u001b[43m(\u001b[49m\u001b[43m[\u001b[49m\u001b[32;43m0\u001b[39;49m\u001b[43m,\u001b[49m\u001b[43m \u001b[49m\u001b[32;43m1\u001b[39;49m\u001b[43m,\u001b[49m\u001b[43m \u001b[49m\u001b[32;43m2\u001b[39;49m\u001b[43m,\u001b[49m\u001b[43m \u001b[49m\u001b[32;43m3\u001b[39;49m\u001b[43m,\u001b[49m\u001b[43m \u001b[49m\u001b[32;43m4\u001b[39;49m\u001b[43m,\u001b[49m\u001b[43m \u001b[49m\u001b[32;43m5\u001b[39;49m\u001b[43m,\u001b[49m\u001b[43m \u001b[49m\u001b[32;43m6\u001b[39;49m\u001b[43m,\u001b[49m\u001b[43m \u001b[49m\u001b[32;43m7\u001b[39;49m\u001b[43m,\u001b[49m\u001b[43m \u001b[49m\u001b[32;43m8\u001b[39;49m\u001b[43m,\u001b[49m\u001b[43m \u001b[49m\u001b[32;43m9\u001b[39;49m\u001b[43m,\u001b[49m\u001b[43m \u001b[49m\u001b[32;43m10\u001b[39;49m\u001b[43m,\u001b[49m\u001b[43m \u001b[49m\u001b[32;43m11\u001b[39;49m\u001b[43m,\u001b[49m\u001b[43m \u001b[49m\u001b[32;43m12\u001b[39;49m\u001b[43m,\u001b[49m\u001b[43m \u001b[49m\u001b[32;43m13\u001b[39;49m\u001b[43m,\u001b[49m\u001b[43m \u001b[49m\u001b[32;43m14\u001b[39;49m\u001b[43m,\u001b[49m\u001b[43m \u001b[49m\u001b[32;43m15\u001b[39;49m\u001b[43m,\u001b[49m\u001b[43m \u001b[49m\u001b[32;43m16\u001b[39;49m\u001b[43m,\u001b[49m\u001b[43m \u001b[49m\u001b[32;43m17\u001b[39;49m\u001b[43m,\u001b[49m\u001b[43m \u001b[49m\u001b[32;43m18\u001b[39;49m\u001b[43m,\u001b[49m\u001b[43m \u001b[49m\u001b[32;43m19\u001b[39;49m\u001b[43m]\u001b[49m\u001b[43m)\u001b[49m\n",
            "\u001b[31mTypeError\u001b[39m: 'list' object is not callable"
          ]
        }
      ],
      "source": [
        "p14([0, 1, 2, 3, 4, 5, 6, 7, 8, 9, 10, 11, 12, 13, 14, 15, 16, 17, 18, 19])"
      ]
    },
    {
      "cell_type": "markdown",
      "metadata": {
        "id": "n3vx4JLXK9L_"
      },
      "source": [
        "### Problem 15\n",
        "\n",
        "Write a function `p15` that takes in a dictionary as input, and returns `True` if \"x\" is in that dictionary and the value is 15, and `False` otherwise."
      ]
    },
    {
      "cell_type": "code",
      "execution_count": 996,
      "metadata": {
        "id": "-Tcp57jgtws1"
      },
      "outputs": [],
      "source": [
        "# YOUR CHANGES HERE\n",
        "\n",
        "def p15(dict):\n",
        "    for (k, v) in dict.items():\n",
        "        if k == \"x\" and v == 15:\n",
        "            return True\n",
        "        else:\n",
        "            return False\n",
        "    else:\n",
        "        return False"
      ]
    },
    {
      "cell_type": "code",
      "execution_count": 997,
      "metadata": {
        "id": "Iya7nbwrNIQr"
      },
      "outputs": [
        {
          "data": {
            "text/plain": [
              "False"
            ]
          },
          "execution_count": 997,
          "metadata": {},
          "output_type": "execute_result"
        }
      ],
      "source": [
        "p15({})"
      ]
    },
    {
      "cell_type": "code",
      "execution_count": 998,
      "metadata": {
        "id": "o665-5VzNJgu"
      },
      "outputs": [
        {
          "data": {
            "text/plain": [
              "True"
            ]
          },
          "execution_count": 998,
          "metadata": {},
          "output_type": "execute_result"
        }
      ],
      "source": [
        "p15({\"x\": 15})"
      ]
    },
    {
      "cell_type": "code",
      "execution_count": 999,
      "metadata": {
        "id": "86KCzgsPNLul"
      },
      "outputs": [
        {
          "data": {
            "text/plain": [
              "False"
            ]
          },
          "execution_count": 999,
          "metadata": {},
          "output_type": "execute_result"
        }
      ],
      "source": [
        "p15({\"x\": 16})"
      ]
    },
    {
      "cell_type": "code",
      "execution_count": 1000,
      "metadata": {
        "id": "M7Mn42mxNOB5"
      },
      "outputs": [
        {
          "data": {
            "text/plain": [
              "False"
            ]
          },
          "execution_count": 1000,
          "metadata": {},
          "output_type": "execute_result"
        }
      ],
      "source": [
        "p15({\"y\": 15})"
      ]
    },
    {
      "cell_type": "code",
      "execution_count": 1001,
      "metadata": {
        "id": "bB16NsNVNPpU"
      },
      "outputs": [
        {
          "data": {
            "text/plain": [
              "True"
            ]
          },
          "execution_count": 1001,
          "metadata": {},
          "output_type": "execute_result"
        }
      ],
      "source": [
        "p15({\"x\": 15, \"y\": 15})"
      ]
    },
    {
      "cell_type": "markdown",
      "metadata": {
        "id": "daebIBs4I-6z"
      },
      "source": [
        "### Problem 16\n",
        "\n",
        "Set `p16` to be $3.3^4$ (3.3 to the 4th power), rounded down to the nearest whole number.\n",
        "Make sure it is an int, not a float.\n"
      ]
    },
    {
      "cell_type": "code",
      "execution_count": 1002,
      "metadata": {
        "id": "CSGcZS7MJGG5"
      },
      "outputs": [],
      "source": [
        "# YOUR CHANGES HERE\n",
        "\n",
        "p16 = int(3.3**4)"
      ]
    },
    {
      "cell_type": "code",
      "execution_count": 1003,
      "metadata": {
        "id": "012y9TXNNXxZ"
      },
      "outputs": [
        {
          "data": {
            "text/plain": [
              "118"
            ]
          },
          "execution_count": 1003,
          "metadata": {},
          "output_type": "execute_result"
        }
      ],
      "source": [
        "p16"
      ]
    },
    {
      "cell_type": "markdown",
      "metadata": {
        "id": "v3dQYwjHJMnC"
      },
      "source": [
        "### Problem 17\n",
        "\n",
        "Python has a built-in function `round` to round a number to a specified number of digits after the decimal point.\n"
      ]
    },
    {
      "cell_type": "code",
      "execution_count": 1004,
      "metadata": {
        "id": "5QSuqhzSJQcL"
      },
      "outputs": [
        {
          "data": {
            "text/plain": [
              "1.23"
            ]
          },
          "execution_count": 1004,
          "metadata": {},
          "output_type": "execute_result"
        }
      ],
      "source": [
        "round(1.2345, 2)"
      ]
    },
    {
      "cell_type": "markdown",
      "metadata": {
        "id": "EBNTsep1JQ6W"
      },
      "source": [
        "Set `p17` to the result of rounding 1.1 + 2.2 to 1 digit after the decimal point.\n"
      ]
    },
    {
      "cell_type": "code",
      "execution_count": 1005,
      "metadata": {
        "id": "_X_MHSm9JVR9"
      },
      "outputs": [],
      "source": [
        "# YOUR CHANGES HERE\n",
        "\n",
        "p17 = round(1.1 + 2.2, 1)"
      ]
    },
    {
      "cell_type": "code",
      "execution_count": 1006,
      "metadata": {
        "id": "c5AxDwk7NZTK"
      },
      "outputs": [
        {
          "data": {
            "text/plain": [
              "3.3"
            ]
          },
          "execution_count": 1006,
          "metadata": {},
          "output_type": "execute_result"
        }
      ],
      "source": [
        "p17"
      ]
    },
    {
      "cell_type": "markdown",
      "metadata": {
        "id": "5HnFcb4jJY7o"
      },
      "source": [
        "### Problem 18\n",
        "\n",
        "Python has a built-in function `max` which will return its greatest input."
      ]
    },
    {
      "cell_type": "code",
      "execution_count": 1007,
      "metadata": {
        "id": "NKPsTKA9J8rq"
      },
      "outputs": [
        {
          "data": {
            "text/plain": [
              "5"
            ]
          },
          "execution_count": 1007,
          "metadata": {},
          "output_type": "execute_result"
        }
      ],
      "source": [
        "max(1, 2, 3, 4, 5)"
      ]
    },
    {
      "cell_type": "markdown",
      "metadata": {
        "id": "To-mUZ4zJ9y1"
      },
      "source": [
        "Set `p18` to the maximum of $3^{25}$, $25^9$, and $1.1^{1000}$ using the built-in `max` function."
      ]
    },
    {
      "cell_type": "code",
      "execution_count": 1008,
      "metadata": {
        "id": "DMk-N8_pKCaU"
      },
      "outputs": [],
      "source": [
        "# YOUR CHANGES HERE\n",
        "\n",
        "p18 = max(3**25, 25**9, 1.1**1000)"
      ]
    },
    {
      "cell_type": "code",
      "execution_count": 1009,
      "metadata": {
        "id": "byXQWD47Nacj"
      },
      "outputs": [
        {
          "data": {
            "text/plain": [
              "2.4699329180060256e+41"
            ]
          },
          "execution_count": 1009,
          "metadata": {},
          "output_type": "execute_result"
        }
      ],
      "source": [
        "p18"
      ]
    },
    {
      "cell_type": "markdown",
      "metadata": {
        "id": "HZZYI-APLDrx"
      },
      "source": [
        "### Problem 19\n",
        "\n",
        "Set `p19` to the set of tuples in `q19` where the first entry is the string \"red\" or the second entry is \"medium\"."
      ]
    },
    {
      "cell_type": "code",
      "execution_count": 1010,
      "metadata": {
        "id": "RcsFeZwGt6Sr"
      },
      "outputs": [],
      "source": [
        "# DO NOT CHANGE\n",
        "\n",
        "q19 = [(\"red\", \"long\"),\n",
        "       (\"blue\", \"short\"),\n",
        "       (\"red\", \"medium\"),\n",
        "       (\"green\", \"tiny\"),\n",
        "       (\"blue\", \"medium\"),\n",
        "       (\"blue\", \"large\")]"
      ]
    },
    {
      "cell_type": "code",
      "execution_count": 1011,
      "metadata": {
        "id": "kMtdLDZNt9w7"
      },
      "outputs": [],
      "source": [
        "# YOUR CHANGES HERE\n",
        "\n",
        "new_list = []\n",
        "\n",
        "for i in q19:\n",
        "    if \"red\" in i or \"medium\" in i:\n",
        "        new_list.append(i)\n",
        "\n",
        "p19 = set(new_list)"
      ]
    },
    {
      "cell_type": "code",
      "execution_count": 1012,
      "metadata": {
        "id": "vJM-6hEcNbtj"
      },
      "outputs": [
        {
          "data": {
            "text/plain": [
              "{('blue', 'medium'), ('red', 'long'), ('red', 'medium')}"
            ]
          },
          "execution_count": 1012,
          "metadata": {},
          "output_type": "execute_result"
        }
      ],
      "source": [
        "p19"
      ]
    },
    {
      "cell_type": "markdown",
      "metadata": {
        "id": "i5r5TdcILE8R"
      },
      "source": [
        "### Problem 20\n",
        "\n",
        "Write a function `p20` that takes in a dictionary as input returns True if all the values match their corresponding keys. For example, if the input was `{\"hi\": \"hi\"}`, then it should return `True`."
      ]
    },
    {
      "cell_type": "code",
      "execution_count": 1013,
      "metadata": {
        "id": "QFpWFVpQAN1U"
      },
      "outputs": [],
      "source": [
        "# YOUR CHANGES HERE\n",
        "\n",
        "def p20(d):\n",
        "    v = d.values()\n",
        "    k = d.keys()\n",
        "    if v != k:\n",
        "        return True\n",
        "\n",
        "   \n",
        "\n",
        "\n",
        "                 \n",
        "\n"
      ]
    },
    {
      "cell_type": "code",
      "execution_count": 1014,
      "metadata": {
        "id": "FzCHcYRvNc9C"
      },
      "outputs": [
        {
          "data": {
            "text/plain": [
              "True"
            ]
          },
          "execution_count": 1014,
          "metadata": {},
          "output_type": "execute_result"
        }
      ],
      "source": [
        "p20({})"
      ]
    },
    {
      "cell_type": "code",
      "execution_count": 1015,
      "metadata": {
        "id": "AjoWVEYWNd9V"
      },
      "outputs": [
        {
          "data": {
            "text/plain": [
              "True"
            ]
          },
          "execution_count": 1015,
          "metadata": {},
          "output_type": "execute_result"
        }
      ],
      "source": [
        "p20({\"x\": \"x\"})"
      ]
    },
    {
      "cell_type": "code",
      "execution_count": 1016,
      "metadata": {
        "id": "HaFwX6vLNftw"
      },
      "outputs": [
        {
          "data": {
            "text/plain": [
              "True"
            ]
          },
          "execution_count": 1016,
          "metadata": {},
          "output_type": "execute_result"
        }
      ],
      "source": [
        "p20({\"x\": \"x\", \"y\": \"y\"})"
      ]
    },
    {
      "cell_type": "code",
      "execution_count": 1017,
      "metadata": {
        "id": "r25Ib6PzNipD"
      },
      "outputs": [
        {
          "data": {
            "text/plain": [
              "True"
            ]
          },
          "execution_count": 1017,
          "metadata": {},
          "output_type": "execute_result"
        }
      ],
      "source": [
        "p20({\"x\": \"x\", \"y\": \"z\"})"
      ]
    }
  ],
  "metadata": {
    "colab": {
      "toc_visible": false
    },
    "kernelspec": {
      "display_name": "Python 3",
      "name": "python3"
    },
    "language_info": {
      "codemirror_mode": {
        "name": "ipython",
        "version": 3
      },
      "file_extension": ".py",
      "mimetype": "text/x-python",
      "name": "python",
      "nbconvert_exporter": "python",
      "pygments_lexer": "ipython3",
      "version": "3.12.1"
    }
  },
  "nbformat": 4,
  "nbformat_minor": 0
}
