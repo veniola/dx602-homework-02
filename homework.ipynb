{
  "cells": [
    {
      "cell_type": "markdown",
      "metadata": {
        "id": "2Tc6KzI4P0To"
      },
      "source": [
        "# DX 602 Week 2 Homework\n",
        "\n"
      ]
    },
    {
      "cell_type": "markdown",
      "metadata": {
        "id": "k2wKrIcJIfd5"
      },
      "source": [
        "## Introduction\n",
        "\n",
        "Practice is a large part of becoming fluent in a programming language.\n",
        "In this module, you will be assigned regular coding homework to practice Python.\n",
        "If these problems seem too easy to you, try to answer them faster, and make sure to check the auto-grader feedback to confirm the correctness of your answers.\n",
        "Like with spoken languages, fluency (speed) is highly correlated with proficiency.\n",
        "But it is important to answer the problems correctly first, then quickly.\n"
      ]
    },
    {
      "cell_type": "markdown",
      "metadata": {
        "id": "HURgoU0vIiRa"
      },
      "source": [
        "### Submission\n",
        "\n",
        "To submit your homework, take the following steps.\n",
        "\n",
        "1. Save and commit this notebook.\n",
        "2. Push your changes to GitHub.\n",
        "3. Confirm that your changes are visible in GitHub.\n",
        "4. Delete the codespace to avoid wasting your free quota.\n",
        "\n",
        "The auto-grading process usually completes within a few minutes of pushing to GitHub, but occasionally can take several minutes to an hour.\n",
        "If you submit your homework early enough, you may review the auto-grading results and fix any mistakes before the deadline.\n"
      ]
    },
    {
      "cell_type": "markdown",
      "metadata": {
        "id": "DqktefzNLKSa"
      },
      "source": [
        "## Problems"
      ]
    },
    {
      "cell_type": "markdown",
      "metadata": {
        "id": "Bpes88-pI4VD"
      },
      "source": [
        "### Problem 1\n",
        "\n",
        "Set `p1` to the name of your favorite animal.\n"
      ]
    },
    {
      "cell_type": "code",
      "execution_count": 417,
      "metadata": {
        "id": "VBT9VpsGLjCm"
      },
      "outputs": [],
      "source": [
        "# YOUR CHANGES HERE\n",
        "\n",
        "p1 = \"jaguar\""
      ]
    },
    {
      "cell_type": "code",
      "execution_count": 418,
      "metadata": {
        "id": "le4QiP_mMNsS"
      },
      "outputs": [
        {
          "data": {
            "text/plain": [
              "'jaguar'"
            ]
          },
          "execution_count": 418,
          "metadata": {},
          "output_type": "execute_result"
        }
      ],
      "source": [
        "p1"
      ]
    },
    {
      "cell_type": "markdown",
      "metadata": {
        "id": "83qzQmAxJBHx"
      },
      "source": [
        "### Problem 2\n",
        "\n",
        "Set `p2` to the 3rd element of `q2`."
      ]
    },
    {
      "cell_type": "code",
      "execution_count": 419,
      "metadata": {
        "id": "5Ui_1NK6Lbsf"
      },
      "outputs": [],
      "source": [
        "# DO NOT CHANGE\n",
        "\n",
        "q2 = [2, 3, 5, 7, 11, 13, 17, 19, 23]"
      ]
    },
    {
      "cell_type": "code",
      "execution_count": 420,
      "metadata": {
        "id": "NYZZPanuLfLt"
      },
      "outputs": [],
      "source": [
        "# YOUR CHANGES HERE\n",
        "\n",
        "p2 = q2[2]"
      ]
    },
    {
      "cell_type": "code",
      "execution_count": 421,
      "metadata": {
        "id": "qA7S3vqHMOg5"
      },
      "outputs": [
        {
          "data": {
            "text/plain": [
              "5"
            ]
          },
          "execution_count": 421,
          "metadata": {},
          "output_type": "execute_result"
        }
      ],
      "source": [
        "p2"
      ]
    },
    {
      "cell_type": "markdown",
      "metadata": {
        "id": "9oDdedHWJBCD"
      },
      "source": [
        "### Problem 3\n",
        "\n",
        "Set `p3` to the length of `q3`."
      ]
    },
    {
      "cell_type": "code",
      "execution_count": 422,
      "metadata": {
        "id": "_p_8E1EILsrw"
      },
      "outputs": [],
      "source": [
        "# DO NOT CHANGE\n",
        "\n",
        "q3 = [iter for i in range(1000) if i % 5 == 0 and i % 4 == 0]"
      ]
    },
    {
      "cell_type": "code",
      "execution_count": 423,
      "metadata": {
        "id": "Pl5pBT5OL1xl"
      },
      "outputs": [],
      "source": [
        "# YOUR CHANGES HERE\n",
        "\n",
        "p3 = len(q3)"
      ]
    },
    {
      "cell_type": "code",
      "execution_count": 424,
      "metadata": {
        "id": "KrUCeN0BMPO9"
      },
      "outputs": [
        {
          "data": {
            "text/plain": [
              "50"
            ]
          },
          "execution_count": 424,
          "metadata": {},
          "output_type": "execute_result"
        }
      ],
      "source": [
        "p3"
      ]
    },
    {
      "cell_type": "markdown",
      "metadata": {
        "id": "AA0nlfIzJA7-"
      },
      "source": [
        "### Problem 4\n",
        "\n",
        "Set `p4` to the last element of `q4`."
      ]
    },
    {
      "cell_type": "code",
      "execution_count": 425,
      "metadata": {
        "id": "zAzSWnGTL8Rv"
      },
      "outputs": [],
      "source": [
        "# DO NOT CHANGE\n",
        "\n",
        "q4 = [i for i in range(1000) if i % 5 != 0 and i % 3 != 0 and i % 2 != 0]"
      ]
    },
    {
      "cell_type": "code",
      "execution_count": 426,
      "metadata": {
        "id": "o9hlg5JxMFcc"
      },
      "outputs": [],
      "source": [
        "# YOUR CHANGES HERE\n",
        "\n",
        "p4 = q4[-1]"
      ]
    },
    {
      "cell_type": "code",
      "execution_count": 427,
      "metadata": {
        "id": "SM3eGgAGMQAy"
      },
      "outputs": [
        {
          "data": {
            "text/plain": [
              "997"
            ]
          },
          "execution_count": 427,
          "metadata": {},
          "output_type": "execute_result"
        }
      ],
      "source": [
        "p4"
      ]
    },
    {
      "cell_type": "markdown",
      "metadata": {
        "id": "-gH3CZv7JA16"
      },
      "source": [
        "### Problem 5\n",
        "\n",
        "Sort `p5` in reverse order.\n"
      ]
    },
    {
      "cell_type": "code",
      "execution_count": 428,
      "metadata": {
        "id": "MTFfUltTMLEl"
      },
      "outputs": [],
      "source": [
        "# DO NOT CHANGE\n",
        "\n",
        "p5 = [7, 1, 3, 6, 8, 123]"
      ]
    },
    {
      "cell_type": "markdown",
      "metadata": {
        "id": "LlVTl91dMO_5"
      },
      "source": [
        "Hint: check the documentation for sort."
      ]
    },
    {
      "cell_type": "code",
      "execution_count": 429,
      "metadata": {
        "id": "Zk9rnlRBMQaE"
      },
      "outputs": [],
      "source": [
        "# YOUR CHANGES HERE\n",
        "\n",
        "sorted = p5.sort()\n",
        "reversed = p5.reverse()"
      ]
    },
    {
      "cell_type": "code",
      "execution_count": 430,
      "metadata": {
        "id": "srrF7ISYMQ3U"
      },
      "outputs": [
        {
          "data": {
            "text/plain": [
              "[123, 8, 7, 6, 3, 1]"
            ]
          },
          "execution_count": 430,
          "metadata": {},
          "output_type": "execute_result"
        }
      ],
      "source": [
        "p5"
      ]
    },
    {
      "cell_type": "markdown",
      "metadata": {
        "id": "Yg-BAxCwJAwO"
      },
      "source": [
        "### Problem 6\n",
        "\n",
        "Set `p6` to be the last 3 elements of `q6`."
      ]
    },
    {
      "cell_type": "code",
      "execution_count": 431,
      "metadata": {
        "id": "bWGZ0daVMiKy"
      },
      "outputs": [],
      "source": [
        "# DO NOT CHANGE\n",
        "\n",
        "q6 = [\"a\", 3, \"bc\", 4, \"def\", 5, \"ghij\", 6]"
      ]
    },
    {
      "cell_type": "code",
      "execution_count": 432,
      "metadata": {
        "id": "OKEnz7J-MpoX"
      },
      "outputs": [],
      "source": [
        "# YOUR CHANGES HERE\n",
        "\n",
        "p6 = q6[-3:]"
      ]
    },
    {
      "cell_type": "code",
      "execution_count": 433,
      "metadata": {
        "id": "7nKI00LWMRz4"
      },
      "outputs": [
        {
          "data": {
            "text/plain": [
              "[5, 'ghij', 6]"
            ]
          },
          "execution_count": 433,
          "metadata": {},
          "output_type": "execute_result"
        }
      ],
      "source": [
        "p6"
      ]
    },
    {
      "cell_type": "markdown",
      "metadata": {
        "id": "eeZzLUvlJAp1"
      },
      "source": [
        "### Problem 7\n",
        "\n",
        "Set `p7` to be the number of distinct items in `q7`."
      ]
    },
    {
      "cell_type": "code",
      "execution_count": 434,
      "metadata": {
        "id": "GcLSUzAGMuXg"
      },
      "outputs": [],
      "source": [
        "# DO NOT CHANGE\n",
        "\n",
        "q7 = []\n",
        "\n",
        "for p in [2, 3, 5, 7]:\n",
        "    for i in range(10):\n",
        "        q7.append(p * i)"
      ]
    },
    {
      "cell_type": "code",
      "execution_count": 435,
      "metadata": {
        "id": "ZCPJVNnMM34o"
      },
      "outputs": [],
      "source": [
        "# YOUR CHANGES HERE\n",
        "\n",
        "p7 = 20"
      ]
    },
    {
      "cell_type": "code",
      "execution_count": 436,
      "metadata": {
        "id": "j3D_mbJzMTLn"
      },
      "outputs": [
        {
          "data": {
            "text/plain": [
              "20"
            ]
          },
          "execution_count": 436,
          "metadata": {},
          "output_type": "execute_result"
        }
      ],
      "source": [
        "p7"
      ]
    },
    {
      "cell_type": "markdown",
      "metadata": {
        "id": "Hph9pVqzJAkO"
      },
      "source": [
        "### Problem 8\n",
        "\n",
        "Set `p8` to be the number of items in `q8a` that are also in `q8b`."
      ]
    },
    {
      "cell_type": "code",
      "execution_count": 437,
      "metadata": {
        "id": "nEXRXKwJNBv6"
      },
      "outputs": [],
      "source": [
        "# DO NOT CHANGE\n",
        "\n",
        "q8a = [1, 2, 3, 6, 98, 23, 24, 25, 26]"
      ]
    },
    {
      "cell_type": "code",
      "execution_count": 438,
      "metadata": {
        "id": "SXZhJ4hKNFyY"
      },
      "outputs": [],
      "source": [
        "# DO NOT CHANGE\n",
        "\n",
        "q8b = [26, 25, 24, 22, 5, 5, 5, 5, 5, 5]"
      ]
    },
    {
      "cell_type": "code",
      "execution_count": 439,
      "metadata": {
        "id": "bKzt-l6RNLfI"
      },
      "outputs": [],
      "source": [
        "# YOUR CHANGES HERE\n",
        "\n",
        "p8 = len([x for x in q8a if x in q8b])"
      ]
    },
    {
      "cell_type": "code",
      "execution_count": 440,
      "metadata": {
        "id": "fkeQtRu_MUdC"
      },
      "outputs": [
        {
          "data": {
            "text/plain": [
              "3"
            ]
          },
          "execution_count": 440,
          "metadata": {},
          "output_type": "execute_result"
        }
      ],
      "source": [
        "p8"
      ]
    },
    {
      "cell_type": "markdown",
      "metadata": {
        "id": "_jIWEmiVJAe3"
      },
      "source": [
        "### Problem 9\n",
        "\n",
        "Create a new dictionary `p9` from the dataset `q9` where each key represents a unique color and maps to a list of all dictionaries containing that color as their color key."
      ]
    },
    {
      "cell_type": "code",
      "execution_count": 441,
      "metadata": {
        "id": "ycA8XTCOpuUj"
      },
      "outputs": [],
      "source": [
        "# DO NOT CHANGE\n",
        "\n",
        "q9 = [{\"color\": \"red\", \"score\": 0.13},\n",
        "      {\"color\": \"blue\", \"score\": 1.00},\n",
        "      {\"color\": \"green\", \"score\": 0.64},\n",
        "      {\"color\": \"red\", \"score\": 0.98},\n",
        "      {\"color\": \"blue\", \"score\": 0.52},\n",
        "      {\"color\": \"violet\", \"score\": 0.25}]"
      ]
    },
    {
      "cell_type": "code",
      "execution_count": 442,
      "metadata": {
        "id": "h7F82RDKpu7l"
      },
      "outputs": [],
      "source": [
        "# YOUR CHANGES HERE\n",
        "\n",
        "scores = [s[\"score\"] for s in q9]\n",
        "colors = [c[\"color\"] for c in q9]\n",
        "\n",
        "new_dict = {}\n",
        "\n",
        "for color in new_dict:\n",
        "    new_dict.append(scores)\n",
        "\n",
        "new_dict = {d[\"color\"] : d[\"score\"] for d in q9}\n",
        "\n",
        "p9 = new_dict\n"
      ]
    },
    {
      "cell_type": "code",
      "execution_count": 443,
      "metadata": {
        "id": "v-KXyX4KMpO5"
      },
      "outputs": [
        {
          "data": {
            "text/plain": [
              "{'red': 0.98, 'blue': 0.52, 'green': 0.64, 'violet': 0.25}"
            ]
          },
          "execution_count": 443,
          "metadata": {},
          "output_type": "execute_result"
        }
      ],
      "source": [
        "p9"
      ]
    },
    {
      "cell_type": "markdown",
      "metadata": {
        "id": "E9uPJNt-JAZA"
      },
      "source": [
        "### Problem 10\n",
        "\n",
        "Examine the function `add_data_10` that organizes data into the dictionary `q10` and identify the key used to categorize the data within it."
      ]
    },
    {
      "cell_type": "code",
      "execution_count": 444,
      "metadata": {
        "id": "3W1_fPOIqpo-"
      },
      "outputs": [],
      "source": [
        "# DO NOT CHANGE\n",
        "\n",
        "q10 = {}\n",
        "\n",
        "def add_data_10(row):\n",
        "    if row['score'] < 0:\n",
        "        return\n",
        "\n",
        "    q10.setdefault(row['zipcode'], [])\n",
        "    q10[row['zipcode']].append(row)\n"
      ]
    },
    {
      "cell_type": "code",
      "execution_count": 445,
      "metadata": {
        "id": "0L8sGkWqtdIh"
      },
      "outputs": [],
      "source": [
        "# YOUR CHANGES HERE\n",
        "\n",
        "p10 = \"zipcode\""
      ]
    },
    {
      "cell_type": "code",
      "execution_count": 446,
      "metadata": {
        "id": "LFYaLPdUMqIi"
      },
      "outputs": [
        {
          "data": {
            "text/plain": [
              "'zipcode'"
            ]
          },
          "execution_count": 446,
          "metadata": {},
          "output_type": "execute_result"
        }
      ],
      "source": [
        "p10"
      ]
    },
    {
      "cell_type": "markdown",
      "metadata": {
        "id": "V3LwVKAEJANv"
      },
      "source": [
        "### Problem 11\n",
        "\n",
        "Write a function p11 taking one input $x$ and returning $x^2$."
      ]
    },
    {
      "cell_type": "code",
      "execution_count": 447,
      "metadata": {
        "id": "iX7t6vlhNbEQ"
      },
      "outputs": [],
      "source": [
        "# YOUR CHANGES HERE\n",
        "\n",
        "def p11(x):\n",
        "    return x**2"
      ]
    },
    {
      "cell_type": "code",
      "execution_count": 448,
      "metadata": {
        "id": "2gVFJKeyMrIu"
      },
      "outputs": [
        {
          "data": {
            "text/plain": [
              "0"
            ]
          },
          "execution_count": 448,
          "metadata": {},
          "output_type": "execute_result"
        }
      ],
      "source": [
        "p11(0)"
      ]
    },
    {
      "cell_type": "code",
      "execution_count": 449,
      "metadata": {
        "id": "HVntsVfrMsC7"
      },
      "outputs": [
        {
          "data": {
            "text/plain": [
              "1"
            ]
          },
          "execution_count": 449,
          "metadata": {},
          "output_type": "execute_result"
        }
      ],
      "source": [
        "p11(1)"
      ]
    },
    {
      "cell_type": "code",
      "execution_count": 450,
      "metadata": {
        "id": "lTaPADFLMtCl"
      },
      "outputs": [
        {
          "data": {
            "text/plain": [
              "4"
            ]
          },
          "execution_count": 450,
          "metadata": {},
          "output_type": "execute_result"
        }
      ],
      "source": [
        "p11(2)"
      ]
    },
    {
      "cell_type": "code",
      "execution_count": 451,
      "metadata": {
        "id": "LQ7ZmFb8MuNi"
      },
      "outputs": [
        {
          "data": {
            "text/plain": [
              "100"
            ]
          },
          "execution_count": 451,
          "metadata": {},
          "output_type": "execute_result"
        }
      ],
      "source": [
        "p11(10)"
      ]
    },
    {
      "cell_type": "code",
      "execution_count": 452,
      "metadata": {
        "id": "Ch75qm8OMvGN"
      },
      "outputs": [
        {
          "data": {
            "text/plain": [
              "123454321"
            ]
          },
          "execution_count": 452,
          "metadata": {},
          "output_type": "execute_result"
        }
      ],
      "source": [
        "p11(11111)"
      ]
    },
    {
      "cell_type": "markdown",
      "metadata": {
        "id": "SwsSCn-oK_Le"
      },
      "source": [
        "### Problem 12\n",
        "\n",
        "Write a function `p12` that returns \"even\" if the input is an even number, and \"odd\" if the input is an odd number. You may assume that the input is always an integer."
      ]
    },
    {
      "cell_type": "code",
      "execution_count": 453,
      "metadata": {
        "id": "qOU4mHoENlm_"
      },
      "outputs": [],
      "source": [
        "# YOUR CHANGES HERE\n",
        "\n",
        "def p12(intgr):\n",
        "    if intgr % 2 == 0:\n",
        "        return \"even\"\n",
        "    elif intgr %  2 != 0:\n",
        "        return \"odd\""
      ]
    },
    {
      "cell_type": "code",
      "execution_count": 454,
      "metadata": {
        "id": "h5ZazXH6MyKp"
      },
      "outputs": [
        {
          "data": {
            "text/plain": [
              "'even'"
            ]
          },
          "execution_count": 454,
          "metadata": {},
          "output_type": "execute_result"
        }
      ],
      "source": [
        "p12(0)"
      ]
    },
    {
      "cell_type": "code",
      "execution_count": 455,
      "metadata": {
        "id": "ok2P8pHJMy9y"
      },
      "outputs": [
        {
          "data": {
            "text/plain": [
              "'odd'"
            ]
          },
          "execution_count": 455,
          "metadata": {},
          "output_type": "execute_result"
        }
      ],
      "source": [
        "p12(1)"
      ]
    },
    {
      "cell_type": "code",
      "execution_count": 456,
      "metadata": {
        "id": "pkyYvZibM0BJ"
      },
      "outputs": [
        {
          "data": {
            "text/plain": [
              "'even'"
            ]
          },
          "execution_count": 456,
          "metadata": {},
          "output_type": "execute_result"
        }
      ],
      "source": [
        "p12(100)"
      ]
    },
    {
      "cell_type": "code",
      "execution_count": 457,
      "metadata": {
        "id": "CMYAmXK_M1ij"
      },
      "outputs": [
        {
          "data": {
            "text/plain": [
              "'odd'"
            ]
          },
          "execution_count": 457,
          "metadata": {},
          "output_type": "execute_result"
        }
      ],
      "source": [
        "p12(999)"
      ]
    },
    {
      "cell_type": "markdown",
      "metadata": {
        "id": "0R7jYZplK9zL"
      },
      "source": [
        "### Problem 13\n",
        "\n",
        "The following code calculates prime numbers less than 100 and stores them in `p13`, but `p13` was not initialized correctly.\n",
        "Fix the initialization of `p13` with an appropriate data type."
      ]
    },
    {
      "cell_type": "code",
      "execution_count": 458,
      "metadata": {},
      "outputs": [],
      "source": [
        "# YOUR CHANGES HERE\n",
        "\n",
        "p13 = []"
      ]
    },
    {
      "cell_type": "code",
      "execution_count": 459,
      "metadata": {
        "id": "FHUZPLF5OLKt"
      },
      "outputs": [],
      "source": [
        "# DO NOT CHANGE\n",
        "\n",
        "for i in range(2, 100):\n",
        "    for p in p13:\n",
        "        if i % p == 0:\n",
        "            break\n",
        "    else:\n",
        "        p13.append(i)\n"
      ]
    },
    {
      "cell_type": "code",
      "execution_count": 460,
      "metadata": {
        "id": "dCZNsLm3M6ZR"
      },
      "outputs": [
        {
          "data": {
            "text/plain": [
              "[2,\n",
              " 3,\n",
              " 5,\n",
              " 7,\n",
              " 11,\n",
              " 13,\n",
              " 17,\n",
              " 19,\n",
              " 23,\n",
              " 29,\n",
              " 31,\n",
              " 37,\n",
              " 41,\n",
              " 43,\n",
              " 47,\n",
              " 53,\n",
              " 59,\n",
              " 61,\n",
              " 67,\n",
              " 71,\n",
              " 73,\n",
              " 79,\n",
              " 83,\n",
              " 89,\n",
              " 97]"
            ]
          },
          "execution_count": 460,
          "metadata": {},
          "output_type": "execute_result"
        }
      ],
      "source": [
        "p13"
      ]
    },
    {
      "cell_type": "markdown",
      "metadata": {
        "id": "c4W3baDrK9lc"
      },
      "source": [
        "### Problem 14\n",
        "\n",
        "Write a function `p14` that takes a list of integers and returns a new list containing only those integers that are divisible by 14."
      ]
    },
    {
      "cell_type": "code",
      "execution_count": 461,
      "metadata": {
        "id": "u4AbsndXtp4C"
      },
      "outputs": [],
      "source": [
        "# YOUR CHANGES HERE\n",
        "\n",
        "new_list = []\n",
        "\n",
        "def p14(a):\n",
        "    for i in a:\n",
        "        if i % 14 == 0 and i >= 1: \n",
        "            new_list.append(i)\n",
        "    \n",
        "show_new_list = new_list"
      ]
    },
    {
      "cell_type": "code",
      "execution_count": 462,
      "metadata": {
        "id": "MaAN_wmlM_gK"
      },
      "outputs": [
        {
          "data": {
            "text/plain": [
              "[14]"
            ]
          },
          "execution_count": 462,
          "metadata": {},
          "output_type": "execute_result"
        }
      ],
      "source": [
        "p14([0, 1, 2, 3, 4, 5, 6, 7, 8, 9, 10, 11, 12, 13, 14, 15, 16, 17, 18, 19])\n",
        "show_new_list"
      ]
    },
    {
      "cell_type": "markdown",
      "metadata": {
        "id": "n3vx4JLXK9L_"
      },
      "source": [
        "### Problem 15\n",
        "\n",
        "Write a function `p15` that takes in a dictionary as input, and returns `True` if \"x\" is in that dictionary and the value is 15, and `False` otherwise."
      ]
    },
    {
      "cell_type": "code",
      "execution_count": 463,
      "metadata": {
        "id": "-Tcp57jgtws1"
      },
      "outputs": [],
      "source": [
        "# YOUR CHANGES HERE\n",
        "\n",
        "def p15(dict):\n",
        "    for k, v in dict.items():\n",
        "        if k == \"x\" and v == 15:\n",
        "            return \"true\"\n",
        "    else:\n",
        "        return \"false\""
      ]
    },
    {
      "cell_type": "code",
      "execution_count": 464,
      "metadata": {
        "id": "Iya7nbwrNIQr"
      },
      "outputs": [
        {
          "data": {
            "text/plain": [
              "'false'"
            ]
          },
          "execution_count": 464,
          "metadata": {},
          "output_type": "execute_result"
        }
      ],
      "source": [
        "p15({})"
      ]
    },
    {
      "cell_type": "code",
      "execution_count": 465,
      "metadata": {
        "id": "o665-5VzNJgu"
      },
      "outputs": [
        {
          "data": {
            "text/plain": [
              "'true'"
            ]
          },
          "execution_count": 465,
          "metadata": {},
          "output_type": "execute_result"
        }
      ],
      "source": [
        "p15({\"x\": 15})"
      ]
    },
    {
      "cell_type": "code",
      "execution_count": 466,
      "metadata": {
        "id": "86KCzgsPNLul"
      },
      "outputs": [
        {
          "data": {
            "text/plain": [
              "'false'"
            ]
          },
          "execution_count": 466,
          "metadata": {},
          "output_type": "execute_result"
        }
      ],
      "source": [
        "p15({\"x\": 16})"
      ]
    },
    {
      "cell_type": "code",
      "execution_count": 467,
      "metadata": {
        "id": "M7Mn42mxNOB5"
      },
      "outputs": [
        {
          "data": {
            "text/plain": [
              "'false'"
            ]
          },
          "execution_count": 467,
          "metadata": {},
          "output_type": "execute_result"
        }
      ],
      "source": [
        "p15({\"y\": 15})"
      ]
    },
    {
      "cell_type": "code",
      "execution_count": 468,
      "metadata": {
        "id": "bB16NsNVNPpU"
      },
      "outputs": [
        {
          "data": {
            "text/plain": [
              "'true'"
            ]
          },
          "execution_count": 468,
          "metadata": {},
          "output_type": "execute_result"
        }
      ],
      "source": [
        "p15({\"x\": 15, \"y\": 15})"
      ]
    },
    {
      "cell_type": "markdown",
      "metadata": {
        "id": "daebIBs4I-6z"
      },
      "source": [
        "### Problem 16\n",
        "\n",
        "Set `p16` to be $3.3^4$ (3.3 to the 4th power), rounded down to the nearest whole number.\n",
        "Make sure it is an int, not a float.\n"
      ]
    },
    {
      "cell_type": "code",
      "execution_count": 469,
      "metadata": {
        "id": "CSGcZS7MJGG5"
      },
      "outputs": [],
      "source": [
        "# YOUR CHANGES HERE\n",
        "\n",
        "p16 = int(3.3**4)"
      ]
    },
    {
      "cell_type": "code",
      "execution_count": 470,
      "metadata": {
        "id": "012y9TXNNXxZ"
      },
      "outputs": [
        {
          "data": {
            "text/plain": [
              "118"
            ]
          },
          "execution_count": 470,
          "metadata": {},
          "output_type": "execute_result"
        }
      ],
      "source": [
        "p16"
      ]
    },
    {
      "cell_type": "markdown",
      "metadata": {
        "id": "v3dQYwjHJMnC"
      },
      "source": [
        "### Problem 17\n",
        "\n",
        "Python has a built-in function `round` to round a number to a specified number of digits after the decimal point.\n"
      ]
    },
    {
      "cell_type": "code",
      "execution_count": 471,
      "metadata": {
        "id": "5QSuqhzSJQcL"
      },
      "outputs": [
        {
          "data": {
            "text/plain": [
              "1.23"
            ]
          },
          "execution_count": 471,
          "metadata": {},
          "output_type": "execute_result"
        }
      ],
      "source": [
        "round(1.2345, 2)"
      ]
    },
    {
      "cell_type": "markdown",
      "metadata": {
        "id": "EBNTsep1JQ6W"
      },
      "source": [
        "Set `p17` to the result of rounding 1.1 + 2.2 to 1 digit after the decimal point.\n"
      ]
    },
    {
      "cell_type": "code",
      "execution_count": 472,
      "metadata": {
        "id": "_X_MHSm9JVR9"
      },
      "outputs": [],
      "source": [
        "# YOUR CHANGES HERE\n",
        "\n",
        "p17 = round(1.1 + 2.2, 1)"
      ]
    },
    {
      "cell_type": "code",
      "execution_count": 473,
      "metadata": {
        "id": "c5AxDwk7NZTK"
      },
      "outputs": [
        {
          "data": {
            "text/plain": [
              "3.3"
            ]
          },
          "execution_count": 473,
          "metadata": {},
          "output_type": "execute_result"
        }
      ],
      "source": [
        "p17"
      ]
    },
    {
      "cell_type": "markdown",
      "metadata": {
        "id": "5HnFcb4jJY7o"
      },
      "source": [
        "### Problem 18\n",
        "\n",
        "Python has a built-in function `max` which will return its greatest input."
      ]
    },
    {
      "cell_type": "code",
      "execution_count": 474,
      "metadata": {
        "id": "NKPsTKA9J8rq"
      },
      "outputs": [
        {
          "data": {
            "text/plain": [
              "5"
            ]
          },
          "execution_count": 474,
          "metadata": {},
          "output_type": "execute_result"
        }
      ],
      "source": [
        "max(1, 2, 3, 4, 5)"
      ]
    },
    {
      "cell_type": "markdown",
      "metadata": {
        "id": "To-mUZ4zJ9y1"
      },
      "source": [
        "Set `p18` to the maximum of $3^{25}$, $25^9$, and $1.1^{1000}$ using the built-in `max` function."
      ]
    },
    {
      "cell_type": "code",
      "execution_count": 475,
      "metadata": {
        "id": "DMk-N8_pKCaU"
      },
      "outputs": [],
      "source": [
        "# YOUR CHANGES HERE\n",
        "\n",
        "p18 = max(3**25, 25**9, 1.1**1000)"
      ]
    },
    {
      "cell_type": "code",
      "execution_count": 476,
      "metadata": {
        "id": "byXQWD47Nacj"
      },
      "outputs": [
        {
          "data": {
            "text/plain": [
              "2.4699329180060256e+41"
            ]
          },
          "execution_count": 476,
          "metadata": {},
          "output_type": "execute_result"
        }
      ],
      "source": [
        "p18"
      ]
    },
    {
      "cell_type": "markdown",
      "metadata": {
        "id": "HZZYI-APLDrx"
      },
      "source": [
        "### Problem 19\n",
        "\n",
        "Set `p19` to the set of tuples in `q19` where the first entry is the string \"red\" or the second entry is \"medium\"."
      ]
    },
    {
      "cell_type": "code",
      "execution_count": 498,
      "metadata": {
        "id": "RcsFeZwGt6Sr"
      },
      "outputs": [],
      "source": [
        "# DO NOT CHANGE\n",
        "\n",
        "q19 = [(\"red\", \"long\"),\n",
        "       (\"blue\", \"short\"),\n",
        "       (\"red\", \"medium\"),\n",
        "       (\"green\", \"tiny\"),\n",
        "       (\"blue\", \"medium\"),\n",
        "       (\"blue\", \"large\")]"
      ]
    },
    {
      "cell_type": "code",
      "execution_count": 501,
      "metadata": {
        "id": "kMtdLDZNt9w7"
      },
      "outputs": [],
      "source": [
        "# YOUR CHANGES HERE\n",
        "\n",
        "new_list = []\n",
        "\n",
        "for i in q19:\n",
        "    if \"red\" in i or \"medium\" in i:\n",
        "        new_list.append(i)\n",
        "\n",
        "p19 = new_list"
      ]
    },
    {
      "cell_type": "code",
      "execution_count": 502,
      "metadata": {
        "id": "vJM-6hEcNbtj"
      },
      "outputs": [
        {
          "data": {
            "text/plain": [
              "[('red', 'long'), ('red', 'medium'), ('blue', 'medium')]"
            ]
          },
          "execution_count": 502,
          "metadata": {},
          "output_type": "execute_result"
        }
      ],
      "source": [
        "p19 "
      ]
    },
    {
      "cell_type": "markdown",
      "metadata": {
        "id": "i5r5TdcILE8R"
      },
      "source": [
        "### Problem 20\n",
        "\n",
        "Write a function `p20` that takes in a dictionary as input returns True if all the values match their corresponding keys. For example, if the input was `{\"hi\": \"hi\"}`, then it should return `True`."
      ]
    },
    {
      "cell_type": "code",
      "execution_count": 488,
      "metadata": {
        "id": "QFpWFVpQAN1U"
      },
      "outputs": [],
      "source": [
        "# YOUR CHANGES HERE\n",
        "\n",
        "def p20(d):\n",
        "    for k,v in d.items():\n",
        "        if k == v:\n",
        "            return \"true\"\n",
        "        else:\n",
        "            return \"false\"\n",
        "    else:\n",
        "        return \"true\""
      ]
    },
    {
      "cell_type": "code",
      "execution_count": 489,
      "metadata": {
        "id": "FzCHcYRvNc9C"
      },
      "outputs": [
        {
          "data": {
            "text/plain": [
              "'true'"
            ]
          },
          "execution_count": 489,
          "metadata": {},
          "output_type": "execute_result"
        }
      ],
      "source": [
        "p20({})"
      ]
    },
    {
      "cell_type": "code",
      "execution_count": 490,
      "metadata": {
        "id": "AjoWVEYWNd9V"
      },
      "outputs": [
        {
          "data": {
            "text/plain": [
              "'true'"
            ]
          },
          "execution_count": 490,
          "metadata": {},
          "output_type": "execute_result"
        }
      ],
      "source": [
        "p20({\"x\": \"x\"})"
      ]
    },
    {
      "cell_type": "code",
      "execution_count": 491,
      "metadata": {
        "id": "HaFwX6vLNftw"
      },
      "outputs": [
        {
          "data": {
            "text/plain": [
              "'true'"
            ]
          },
          "execution_count": 491,
          "metadata": {},
          "output_type": "execute_result"
        }
      ],
      "source": [
        "p20({\"x\": \"x\", \"y\": \"y\"})"
      ]
    },
    {
      "cell_type": "code",
      "execution_count": 492,
      "metadata": {
        "id": "r25Ib6PzNipD"
      },
      "outputs": [
        {
          "data": {
            "text/plain": [
              "'true'"
            ]
          },
          "execution_count": 492,
          "metadata": {},
          "output_type": "execute_result"
        }
      ],
      "source": [
        "p20({\"x\": \"x\", \"y\": \"z\"})"
      ]
    }
  ],
  "metadata": {
    "colab": {
      "toc_visible": false
    },
    "kernelspec": {
      "display_name": "Python 3",
      "name": "python3"
    },
    "language_info": {
      "codemirror_mode": {
        "name": "ipython",
        "version": 3
      },
      "file_extension": ".py",
      "mimetype": "text/x-python",
      "name": "python",
      "nbconvert_exporter": "python",
      "pygments_lexer": "ipython3",
      "version": "3.12.1"
    }
  },
  "nbformat": 4,
  "nbformat_minor": 0
}
